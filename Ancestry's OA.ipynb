{
 "cells": [
  {
   "cell_type": "code",
   "execution_count": 13,
   "id": "bbbdb9b3",
   "metadata": {},
   "outputs": [
    {
     "name": "stdout",
     "output_type": "stream",
     "text": [
      "   Unnamed: 0  prospectid  ordernumber ordercreatedate  \\\n",
      "0           1    93771712    127707306      2014-11-28   \n",
      "1           2   123112555    114401425      2013-12-05   \n",
      "2           3   171965960    159656050      2016-11-25   \n",
      "3           4   175522116    165370285      2017-03-08   \n",
      "4           5   149288086    132837125      2015-03-30   \n",
      "\n",
      "                regtenure customer_type_group dnatestactivationdayid  \\\n",
      "0  More than 120 days old        Existing Reg             2014-12-10   \n",
      "1      Order prior to reg             New Reg             2014-01-13   \n",
      "2      Order prior to reg             New Reg                    NaN   \n",
      "3               <=60 days        Existing Reg                    NaN   \n",
      "4      Order prior to reg             New Reg             2015-04-06   \n",
      "\n",
      "  daystogetresult_grp dna_visittrafficsubtype  xsell_gsa  xsell_day_exact  \n",
      "0             4 weeks                     NaN          1             38.0  \n",
      "1             4 weeks                     NaN          1             40.0  \n",
      "2                  -1   Paid Search Non Brand          0              NaN  \n",
      "3                  -1          Email Programs          0              NaN  \n",
      "4             4 weeks                     NaN          0              NaN  \n"
     ]
    }
   ],
   "source": [
    "import pandas as pd\n",
    "import matplotlib.pyplot as plt\n",
    "import seaborn as sns\n",
    "import numpy as np\n",
    "from scipy.stats import ttest_ind\n",
    "\n",
    "# Read in data and view the first few rows\n",
    "df = pd.read_csv('/Users/maile/Desktop/take-home_exercise_data  .csv')\n",
    "print(df.head())"
   ]
  },
  {
   "cell_type": "code",
   "execution_count": 2,
   "id": "03280dae",
   "metadata": {},
   "outputs": [
    {
     "name": "stdout",
     "output_type": "stream",
     "text": [
      "Unnamed: 0                      0\n",
      "prospectid                      0\n",
      "ordernumber                     0\n",
      "ordercreatedate                 0\n",
      "regtenure                       0\n",
      "customer_type_group             0\n",
      "dnatestactivationdayid      73097\n",
      "daystogetresult_grp             0\n",
      "dna_visittrafficsubtype     62849\n",
      "xsell_gsa                       0\n",
      "xsell_day_exact            211363\n",
      "dtype: int64\n"
     ]
    }
   ],
   "source": [
    "# Check for missing values and handle them\n",
    "print(df.isnull().sum()) # check for columns with missing values\n",
    "df = df.dropna() # drop rows with missing values"
   ]
  },
  {
   "cell_type": "code",
   "execution_count": 3,
   "id": "88036eba",
   "metadata": {},
   "outputs": [],
   "source": [
    "# Convert data types\n",
    "df['ordercreatedate'] = pd.to_datetime(df['ordercreatedate'])\n",
    "df['dnatestactivationdayid'] = pd.to_datetime(df['dnatestactivationdayid'])"
   ]
  },
  {
   "cell_type": "code",
   "execution_count": 10,
   "id": "5d10a529",
   "metadata": {},
   "outputs": [],
   "source": [
    "# Replace '4 weeks', '3 weeks', '6 weeks', and '5 weeks' with 4*7=28, 3*7=21, 6*7=42, and 5*7=35, respectively\n",
    "df['daystogetresult_grp'] = df['daystogetresult_grp'].replace('4 weeks', 28)\n",
    "df['daystogetresult_grp'] = df['daystogetresult_grp'].replace('3 weeks', 21)\n",
    "df['daystogetresult_grp'] = df['daystogetresult_grp'].replace('6 weeks', 42)\n",
    "df['daystogetresult_grp'] = df['daystogetresult_grp'].replace('5 weeks', 35)"
   ]
  },
  {
   "cell_type": "code",
   "execution_count": 6,
   "id": "eb2f2960",
   "metadata": {},
   "outputs": [],
   "source": [
    "# Make sure all values in the 'daystogetresult_grp' column are numeric\n",
    "df['daystogetresult_grp'] = df['daystogetresult_grp'].apply(lambda x: int(x) if type(x) != int and x.isdigit() else x)"
   ]
  },
  {
   "cell_type": "code",
   "execution_count": 11,
   "id": "9ef0b6b5",
   "metadata": {},
   "outputs": [],
   "source": [
    "# Convert the 'daystogetresult_grp' column to numeric data type\n",
    "df['daystogetresult_grp'] = pd.to_numeric(df['daystogetresult_grp'], errors='coerce')"
   ]
  },
  {
   "cell_type": "code",
   "execution_count": 14,
   "id": "0b4624ed",
   "metadata": {},
   "outputs": [],
   "source": [
    "# Handle any remaining non-numeric values in the 'daystogetresult_grp' column\n",
    "def handle_non_numeric_values(x):\n",
    "    if pd.isnull(x):\n",
    "        return np.nan\n",
    "    elif type(x) == int:\n",
    "        return x\n",
    "    elif type(x) == str:\n",
    "        return np.nan\n",
    "    else:\n",
    "        return x\n",
    "\n",
    "df['daystogetresult_grp'] = df['daystogetresult_grp'].apply(handle_non_numeric_values)"
   ]
  },
  {
   "cell_type": "code",
   "execution_count": 16,
   "id": "c4299bc8",
   "metadata": {},
   "outputs": [
    {
     "name": "stdout",
     "output_type": "stream",
     "text": [
      "       Unnamed: 0  prospectid  ordernumber  daystogetresult_grp  xsell_gsa  \\\n",
      "count         0.0         0.0          0.0                  0.0        0.0   \n",
      "mean          NaN         NaN          NaN                  NaN        NaN   \n",
      "std           NaN         NaN          NaN                  NaN        NaN   \n",
      "min           NaN         NaN          NaN                  NaN        NaN   \n",
      "25%           NaN         NaN          NaN                  NaN        NaN   \n",
      "50%           NaN         NaN          NaN                  NaN        NaN   \n",
      "75%           NaN         NaN          NaN                  NaN        NaN   \n",
      "max           NaN         NaN          NaN                  NaN        NaN   \n",
      "\n",
      "       xsell_day_exact  \n",
      "count              0.0  \n",
      "mean               NaN  \n",
      "std                NaN  \n",
      "min                NaN  \n",
      "25%                NaN  \n",
      "50%                NaN  \n",
      "75%                NaN  \n",
      "max                NaN  \n"
     ]
    }
   ],
   "source": [
    "# Explore the data using summary statistics\n",
    "print(df.describe())"
   ]
  },
  {
   "cell_type": "code",
   "execution_count": 17,
   "id": "2c75a4f8",
   "metadata": {},
   "outputs": [
    {
     "data": {
      "image/png": "[encoded data removed]",
      "text/plain": [
       "<Figure size 432x288 with 1 Axes>"
      ]
     },
     "metadata": {
      "needs_background": "light"
     },
     "output_type": "display_data"
    }
   ],
   "source": [
    "# Create a scatter plot to visualize the relationship between two continuous variables\n",
    "plt.scatter(df['regtenure'], df['daystogetresult_grp'])\n",
    "plt.xlabel('Days since email registration')\n",
    "plt.ylabel('Days to get DNA test results')\n",
    "plt.show()"
   ]
  },
  {
   "cell_type": "code",
   "execution_count": 21,
   "id": "ff6f1d7d",
   "metadata": {},
   "outputs": [
    {
     "name": "stdout",
     "output_type": "stream",
     "text": [
      "0\n"
     ]
    }
   ],
   "source": [
    "# Calculate the fraction of customers who cross-sell to subscription\n",
    "num_cross_sells = df[(df['xsell_gsa'] == 1) & (df['xsell_day_exact'] <= 120)].shape[0]\n",
    "total_customers = df.shape[0]\n",
    "\n",
    "if total_customers == 0:\n",
    "    fraction_cross_sells = 0\n",
    "else:\n",
    "    fraction_cross_sells = num_cross_sells / total_customers\n",
    "    \n",
    "print(fraction_cross_sells)"
   ]
  },
  {
   "cell_type": "code",
   "execution_count": 42,
   "id": "d8c23ba1",
   "metadata": {},
   "outputs": [
    {
     "name": "stdout",
     "output_type": "stream",
     "text": [
      "Series([], Name: customer_type_group, dtype: int64)\n"
     ]
    }
   ],
   "source": [
    "# Check the value counts for the 'customer_type_group' column\n",
    "print(df_clean['customer_type_group'].value_counts())"
   ]
  },
  {
   "cell_type": "code",
   "execution_count": 43,
   "id": "81971be3",
   "metadata": {},
   "outputs": [
    {
     "name": "stdout",
     "output_type": "stream",
     "text": [
      "Series([], Name: daystogetresult_grp, dtype: int64)\n"
     ]
    }
   ],
   "source": [
    "# Check the value counts for the 'daystogetresult_grp' column\n",
    "print(df_clean['daystogetresult_grp'].value_counts())"
   ]
  },
  {
   "cell_type": "code",
   "execution_count": 44,
   "id": "494ecc4b",
   "metadata": {},
   "outputs": [
    {
     "data": {
      "image/png": "[encoded data removed]",
      "text/plain": [
       "<Figure size 432x288 with 1 Axes>"
      ]
     },
     "metadata": {
      "needs_background": "light"
     },
     "output_type": "display_data"
    }
   ],
   "source": [
    "# Plot a histogram of the 'daystogetresult_grp' column\n",
    "plt.hist(df_clean['daystogetresult_grp'])\n",
    "plt.xlabel('Days to get DNA test results')\n",
    "plt.ylabel('Frequency')\n",
    "plt.show()"
   ]
  },
  {
   "cell_type": "code",
   "execution_count": 45,
   "id": "072526e3",
   "metadata": {},
   "outputs": [
    {
     "data": {
      "image/png": "[encoded data removed]",
      "text/plain": [
       "<Figure size 432x288 with 1 Axes>"
      ]
     },
     "metadata": {
      "needs_background": "light"
     },
     "output_type": "display_data"
    }
   ],
   "source": [
    "# Plot a bar plot of the 'customer_type_group' column\n",
    "plt.bar(df_clean['customer_type_group'].unique(), df_clean['customer_type_group'].value_counts())\n",
    "plt.xlabel('Customer Type')\n",
    "plt.ylabel('Count')\n",
    "plt.show()"
   ]
  },
  {
   "cell_type": "code",
   "execution_count": 53,
   "id": "a02e5591",
   "metadata": {},
   "outputs": [
    {
     "data": {
      "image/png": "[encoded data removed]",
      "text/plain": [
       "<Figure size 432x288 with 1 Axes>"
      ]
     },
     "metadata": {
      "needs_background": "light"
     },
     "output_type": "display_data"
    }
   ],
   "source": [
    "# Create a line plot of DNA orders over time\n",
    "df.plot(x='ordercreatedate', y='ordernumber', style='-')\n",
    "plt.xlabel('Order Date')\n",
    "plt.ylabel('Order Number')\n",
    "plt.show()"
   ]
  },
  {
   "cell_type": "code",
   "execution_count": 56,
   "id": "bcd0e8d0",
   "metadata": {},
   "outputs": [],
   "source": [
    "# Test for statistical significance in the mean number of days to get DNA test results for different customer types\n",
    "customer_type_groups = df['customer_type_group'].unique()\n",
    "for group in customer_type_groups:\n",
    "    group_df = df[df['customer_type_group'] == group]['daystogetresult_grp']\n",
    "    print(f'Customer type: {group}')\n",
    "    print(f'Mean number of days to get DNA test results: {group_df.mean()}')\n",
    "    print(f'Standard deviation: {group_df.std()}')\n",
    "    t, p = ttest_ind(df[df['customer_type_group'] == 'New']['daystogetresult_grp'], \n",
    "                     df[df['customer_type_group'] == 'Existing']['daystogetresult_grp'])\n",
    "    print(f't-value: {t}')\n",
    "    print(f'p-value: {p}')\n",
    "    print()"
   ]
  },
  {
   "cell_type": "code",
   "execution_count": null,
   "id": "9e61f0d7",
   "metadata": {},
   "outputs": [],
   "source": []
  },
  {
   "cell_type": "code",
   "execution_count": null,
   "id": "094f1f96",
   "metadata": {},
   "outputs": [],
   "source": []
  },
  {
   "cell_type": "code",
   "execution_count": null,
   "id": "dbc15efa",
   "metadata": {},
   "outputs": [],
   "source": []
  },
  {
   "cell_type": "code",
   "execution_count": null,
   "id": "8232b775",
   "metadata": {},
   "outputs": [],
   "source": []
  },
  {
   "cell_type": "code",
   "execution_count": null,
   "id": "79fef8fc",
   "metadata": {},
   "outputs": [],
   "source": []
  },
  {
   "cell_type": "code",
   "execution_count": null,
   "id": "454d52f0",
   "metadata": {},
   "outputs": [],
   "source": []
  },
  {
   "cell_type": "code",
   "execution_count": null,
   "id": "06496766",
   "metadata": {},
   "outputs": [],
   "source": []
  },
  {
   "cell_type": "code",
   "execution_count": null,
   "id": "c9a69668",
   "metadata": {},
   "outputs": [],
   "source": []
  }
 ],
 "metadata": {
  "kernelspec": {
   "display_name": "Python 3 (ipykernel)",
   "language": "python",
   "name": "python3"
  },
  "language_info": {
   "codemirror_mode": {
    "name": "ipython",
    "version": 3
   },
   "file_extension": ".py",
   "mimetype": "text/x-python",
   "name": "python",
   "nbconvert_exporter": "python",
   "pygments_lexer": "ipython3",
   "version": "3.9.12"
  }
 },
 "nbformat": 4,
 "nbformat_minor": 5
}
